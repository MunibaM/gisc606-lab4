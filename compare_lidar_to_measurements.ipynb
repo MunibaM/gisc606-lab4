{
 "cells": [
  {
   "cell_type": "code",
   "execution_count": null,
   "metadata": {},
   "outputs": [],
   "source": [
    "import os\n",
    "import matplotlib.pyplot as plt\n",
    "import seaborn as sns\n",
    "import numpy as np\n",
    "import pandas as pd\n",
    "import rioxarray as rxr\n",
    "from rasterio.plot import plotting_extent\n",
    "import geopandas as gpd\n",
    "import rasterstats as rs\n",
    "from earthpy import spatial as es\n",
    "import earthpy as et\n",
    "import earthpy.plot as ep\n",
    "\n",
    "# Setting consistent plotting style throughout notebook\n",
    "sns.set_style(\"white\")\n",
    "sns.axes_style(\"white\")\n",
    "sns.set(font_scale=1.5)\n",
    "\n",
    "# Download data and set working directory\n",
    "data = et.data.get_data(\"spatial-vector-lidar\")\n",
    "os.chdir(os.path.join(et.io.HOME,\n",
    "                      'earth-analytics',\n",
    "                      'data'))"
   ]
  },
  {
   "cell_type": "code",
   "execution_count": null,
   "metadata": {},
   "outputs": [],
   "source": [
    "sjer_lidar_chm_path = os.path.join(\"spatial-vector-lidar\",\n",
    "                                   \"california\",\n",
    "                                   \"neon-sjer-site\",\n",
    "                                   \"2013\",\n",
    "                                   \"lidar\",\n",
    "                                   \"SJER_lidarCHM.tif\")\n",
    "\n",
    "# Load data\n",
    "sjer_chm_data = rxr.open_rasterio(sjer_lidar_chm_path, masked=True).squeeze()\n",
    "\n",
    "plot_buffer_path = os.path.join('spatial-vector-lidar',\n",
    "                                'outputs',\n",
    "                                'plot_buffer.shp')\n",
    "\n",
    "# Extract zonal stats & create geodataframe\n",
    "sjer_tree_heights = rs.zonal_stats(plot_buffer_path,\n",
    "                                   sjer_chm_data.values,\n",
    "                                   affine=sjer_chm_data.rio.transform(),\n",
    "                                   geojson_out=True,\n",
    "                                   copy_properties=True,\n",
    "                                   nodata=0,\n",
    "                                   stats=\"count mean max\")\n",
    "\n",
    "sjer_lidar_height_df = gpd.GeoDataFrame.from_features(sjer_tree_heights)"
   ]
  },
  {
   "cell_type": "code",
   "execution_count": null,
   "metadata": {},
   "outputs": [],
   "source": [
    "# Import & view insitu (field measured) data\n",
    "path_insitu = os.path.join(\"spatial-vector-lidar\",\n",
    "                           \"california\",\n",
    "                           \"neon-sjer-site\",\n",
    "                           \"2013\",\n",
    "                           \"insitu\",\n",
    "                           \"veg_structure\",\n",
    "                           \"D17_2013_SJER_vegStr.csv\")\n",
    "\n",
    "sjer_insitu_all = pd.read_csv(path_insitu)\n",
    "\n",
    "# View columns in data\n",
    "sjer_insitu_all.columns"
   ]
  },
  {
   "cell_type": "code",
   "execution_count": null,
   "metadata": {},
   "outputs": [],
   "source": [
    "sjer_insitu = sjer_insitu_all[[\"siteid\",\n",
    "                               \"sitename\",\n",
    "                               \"plotid\",\n",
    "                               \"stemheight\",\n",
    "                               \"scientificname\"]]\n",
    "\n",
    "sjer_insitu.head()"
   ]
  },
  {
   "cell_type": "code",
   "execution_count": null,
   "metadata": {},
   "outputs": [],
   "source": [
    "insitu_stem_ht = sjer_insitu.groupby('plotid').agg(\n",
    "    ['mean', 'max'])['stemheight']\n",
    "\n",
    "insitu_stem_ht.head()"
   ]
  },
  {
   "cell_type": "code",
   "execution_count": null,
   "metadata": {},
   "outputs": [],
   "source": [
    "# Rename each column\n",
    "insitu_stem_ht.head()"
   ]
  },
  {
   "cell_type": "code",
   "execution_count": null,
   "metadata": {},
   "outputs": [],
   "source": [
    "insitu_stem_ht.rename(columns={\"mean\": \"insitu_mean\",\n",
    "                               \"max\": \"insitu_max\"},\n",
    "                      inplace=True)  # Modify the dataframe columns\n",
    "\n",
    "insitu_stem_ht.head()"
   ]
  },
  {
   "cell_type": "code",
   "execution_count": null,
   "metadata": {},
   "outputs": [],
   "source": [
    "# Reset the index (plotid)\n",
    "insitu_stem_ht = insitu_stem_ht.reset_index()\n",
    "insitu_stem_ht.head()"
   ]
  },
  {
   "cell_type": "code",
   "execution_count": null,
   "metadata": {},
   "outputs": [],
   "source": [
    "# Rename columns so that we know which columns represent lidar values\n",
    "sjer_lidar_height_df = sjer_lidar_height_df.rename(\n",
    "    columns={'max': 'lidar_max',\n",
    "             'mean': 'lidar_mean',\n",
    "             'min': 'lidar_min'})\n",
    "\n",
    "# Join lidar and human measured tree height data\n",
    "sjer_final_height = sjer_lidar_height_df.merge(insitu_stem_ht,\n",
    "                                               left_on='Plot_ID',\n",
    "                                               right_on='plotid')\n",
    "sjer_final_height.head()"
   ]
  },
  {
   "cell_type": "code",
   "execution_count": null,
   "metadata": {},
   "outputs": [],
   "source": [
    "# Convert to a dataframe so you can use standard pandas plotting\n",
    "sjer_final_height_df = pd.DataFrame(sjer_final_height)\n",
    "\n",
    "fig, ax = plt.subplots(figsize=(10, 10))\n",
    "\n",
    "sjer_final_height_df.plot('lidar_max',\n",
    "                          'insitu_max',\n",
    "                          kind='scatter',\n",
    "                          fontsize=14, s=60,\n",
    "                          color=\"purple\",\n",
    "                          ax=ax)\n",
    "\n",
    "ax.set(xlabel=\"Lidar derived max tree height\",\n",
    "       ylabel=\"Measured tree height (m)\",\n",
    "       title=\"Lidar vs Measured Max Tree Height \\n NEON SJER Field Site\")\n",
    "\n",
    "plt.show()"
   ]
  },
  {
   "cell_type": "code",
   "execution_count": null,
   "metadata": {},
   "outputs": [],
   "source": [
    "fig, ax = plt.subplots(figsize=(10, 10))\n",
    "\n",
    "sjer_final_height_df.plot('lidar_max',\n",
    "                          'insitu_max',\n",
    "                          kind='scatter',\n",
    "                          fontsize=14,\n",
    "                          color=\"purple\",\n",
    "                          s=60, ax=ax)\n",
    "\n",
    "ax.set(xlabel=\"Lidar Derived Max Tree Height (m)\",\n",
    "       ylabel=\"Measured Tree Height (m)\",\n",
    "       title=\"Lidar vs. Measured Max Tree Height \\n NEON SJER Field Site\")\n",
    "\n",
    "# Add 1:1 line\n",
    "ax.plot((0, 1), (0, 1),\n",
    "        transform=ax.transAxes, ls='--', c='k')\n",
    "\n",
    "# Adjust x and y axis limits\n",
    "ax.set(xlim=[0, 30], ylim=[0, 30])\n",
    "plt.show()"
   ]
  },
  {
   "cell_type": "code",
   "execution_count": null,
   "metadata": {},
   "outputs": [],
   "source": [
    "# Export the final data frame as a csv file\n",
    "outpath = os.path.join(\"spatial-vector-lidar\",\n",
    "                       \"outputs\",\n",
    "                       \"sjer-lidar-insitu-merge.csv\")\n",
    "\n",
    "sjer_final_height_df.to_csv(outpath)"
   ]
  },
  {
   "cell_type": "code",
   "execution_count": null,
   "metadata": {},
   "outputs": [],
   "source": [
    "# Convert the geometry column to contain points\n",
    "sjer_final_height['geometry'] = sjer_final_height.centroid\n",
    "sjer_final_height.head()\n",
    "\n",
    "sjer_final_height['insitu_max']"
   ]
  },
  {
   "cell_type": "code",
   "execution_count": null,
   "metadata": {},
   "outputs": [],
   "source": [
    "fig, ax = plt.subplots(figsize=(10, 10))\n",
    "ep.plot_bands(sjer_chm_data,\n",
    "              cmap='Greys',\n",
    "              extent=plotting_extent(sjer_chm_data,\n",
    "                                     sjer_chm_data.rio.transform()),\n",
    "              ax=ax,\n",
    "              scale=False)\n",
    "\n",
    "# Plot centroids of each geometry as points so that you can control their size\n",
    "sjer_final_height.centroid.plot(ax=ax,\n",
    "                                marker='o',\n",
    "                                markersize=sjer_final_height['insitu_max'] * 80,\n",
    "                                c='purple')\n",
    "ax.set_axis_off()\n",
    "plt.show()"
   ]
  },
  {
   "cell_type": "code",
   "execution_count": null,
   "metadata": {},
   "outputs": [],
   "source": [
    "# Calculate difference\n",
    "sjer_final_height[\"lidar_measured\"] = sjer_final_height[\"lidar_max\"] - \\\n",
    "    sjer_final_height[\"insitu_max\"]\n",
    "\n",
    "# Create a bar plot\n",
    "fig, ax = plt.subplots(figsize=(12, 7))\n",
    "ax.bar(sjer_final_height['plotid'],\n",
    "       sjer_final_height['lidar_measured'],\n",
    "       color=\"purple\")\n",
    "\n",
    "ax.set(xlabel='Plot ID', ylabel='(Lidar - Measured) Height Difference (m)',\n",
    "       title='Difference Between lidar and Measured Tree Height')\n",
    "\n",
    "plt.setp(ax.get_xticklabels(),\n",
    "         rotation=45, horizontalalignment='right')\n",
    "plt.show()"
   ]
  },
  {
   "cell_type": "code",
   "execution_count": null,
   "metadata": {},
   "outputs": [],
   "source": []
  }
 ],
 "metadata": {
  "language_info": {
   "name": "python"
  }
 },
 "nbformat": 4,
 "nbformat_minor": 2
}
