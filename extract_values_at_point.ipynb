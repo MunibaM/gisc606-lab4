{
 "cells": [
  {
   "cell_type": "code",
   "execution_count": null,
   "metadata": {},
   "outputs": [],
   "source": [
    "import os\n",
    "import matplotlib.pyplot as plt\n",
    "import seaborn as sns\n",
    "import numpy as np\n",
    "import numpy.ma as ma\n",
    "import pandas as pd\n",
    "import rioxarray as rxr\n",
    "from rasterio.plot import plotting_extent\n",
    "import geopandas as gpd\n",
    "# Rasterstats contains the zonalstatistics function\n",
    "# that you will use to extract raster values\n",
    "import rasterstats as rs\n",
    "import earthpy as et\n",
    "import earthpy.plot as ep\n",
    "\n",
    "# Set consistent plotting style\n",
    "sns.set_style(\"white\")\n",
    "sns.set(font_scale=1.5)\n",
    "\n",
    "# Download data and set working directory\n",
    "data = et.data.get_data(\"spatial-vector-lidar\")\n",
    "os.chdir(os.path.join(et.io.HOME, \n",
    "                      'earth-analytics', \n",
    "                      'data'))"
   ]
  },
  {
   "cell_type": "code",
   "execution_count": null,
   "metadata": {},
   "outputs": [],
   "source": [
    "# Load & plot the data\n",
    "sjer_lidar_chm_path = os.path.join(\"spatial-vector-lidar\",\n",
    "                                   \"california\", \n",
    "                                   \"neon-sjer-site\",\n",
    "                                   \"2013\", \n",
    "                                   \"lidar\", \n",
    "                                   \"SJER_lidarCHM.tif\")\n",
    "\n",
    "sjer_chm_data = rxr.open_rasterio(sjer_lidar_chm_path, masked=True).squeeze()"
   ]
  },
  {
   "cell_type": "code",
   "execution_count": null,
   "metadata": {},
   "outputs": [],
   "source": [
    "# Explore the data by plotting a histogram with earthpy\n",
    "ax = ep.hist(sjer_chm_data.values,\n",
    "             figsize=(8, 8),\n",
    "             colors=\"purple\",\n",
    "             xlabel=\"Lidar Estimated Tree Height (m)\",\n",
    "             ylabel=\"Total Pixels\",\n",
    "             title=\"Distribution of Pixel Values \\n Lidar Canopy Height Model\")\n",
    "\n",
    "# Turn off scientific notation\n",
    "ax[1].ticklabel_format(useOffset=False,\n",
    "                       style='plain')"
   ]
  },
  {
   "cell_type": "code",
   "execution_count": null,
   "metadata": {},
   "outputs": [],
   "source": [
    "# EXPLORE: View summary statistics of canopy height model\n",
    "# Notice the mean value with 0's included in the data\n",
    "print('Mean:', sjer_chm_data.mean().values)\n",
    "print('Max:', sjer_chm_data.max().values)\n",
    "print('Min:', sjer_chm_data.min().values)"
   ]
  },
  {
   "cell_type": "code",
   "execution_count": null,
   "metadata": {},
   "outputs": [],
   "source": [
    "# CLEANUP: Set CHM values of 0 to NAN (no data or not a number)\n",
    "sjer_chm_data_no_zeros = sjer_chm_data.where(sjer_chm_data != 0, np.nan)\n",
    "# View summary statistics of canopy height model after cleaning up the data\n",
    "print('Mean:', sjer_chm_data_no_zeros.mean().values)\n",
    "print('Max:', sjer_chm_data_no_zeros.max().values)\n",
    "print('Min:', sjer_chm_data_no_zeros.min().values)"
   ]
  },
  {
   "cell_type": "code",
   "execution_count": null,
   "metadata": {},
   "outputs": [],
   "source": [
    "# Explore the data by plotting a histogram with earthpy\n",
    "ax = ep.hist(sjer_chm_data_no_zeros.values,\n",
    "             figsize=(8, 8),\n",
    "             colors=\"purple\",\n",
    "             xlabel=\"Lidar Estimated Tree Height (m)\",\n",
    "             ylabel=\"Total Pixels\",\n",
    "             title=\"Distribution of Pixel Values \\n Lidar Canopy Height Model\")\n",
    "\n",
    "# Turn off scientific notation\n",
    "ax[1].ticklabel_format(useOffset=False,\n",
    "                       style='plain')"
   ]
  },
  {
   "cell_type": "code",
   "execution_count": null,
   "metadata": {},
   "outputs": [],
   "source": [
    "sjer_centroids_path = os.path.join(\"spatial-vector-lidar\",\n",
    "                                   \"california\", \n",
    "                                   \"neon-sjer-site\",\n",
    "                                   \"vector_data\", \n",
    "                                   \"SJER_plot_centroids.shp\")\n",
    "\n",
    "sjer_plots_points = gpd.read_file(sjer_centroids_path)\n",
    "\n",
    "type(sjer_plots_points)"
   ]
  },
  {
   "cell_type": "code",
   "execution_count": null,
   "metadata": {},
   "outputs": [],
   "source": [
    "# Ensure this is a points layer as you think it is\n",
    "sjer_plots_points.geom_type.head()"
   ]
  },
  {
   "cell_type": "code",
   "execution_count": null,
   "metadata": {},
   "outputs": [],
   "source": [
    "fig, ax = plt.subplots(figsize=(10, 10))\n",
    "\n",
    "# We plot with the zeros in the data so the CHM can be better represented visually\n",
    "ep.plot_bands(sjer_chm_data,\n",
    "              extent=plotting_extent(sjer_chm_data,\n",
    "                                     sjer_chm_data.rio.transform()),  # Set spatial extent\n",
    "              cmap='Greys',\n",
    "              title=\"San Joachin Field Site \\n Vegetation Plot Locations\",\n",
    "              scale=False,\n",
    "              ax=ax)\n",
    "\n",
    "sjer_plots_points.plot(ax=ax,\n",
    "                       marker='s',\n",
    "                       markersize=45,\n",
    "                       color='purple')\n",
    "ax.set_axis_off()\n",
    "plt.show()"
   ]
  },
  {
   "cell_type": "code",
   "execution_count": null,
   "metadata": {},
   "outputs": [],
   "source": [
    "# Create a buffered polygon layer from your plot location points\n",
    "sjer_plots_poly = sjer_plots_points.copy()\n",
    "\n",
    "# Buffer each point using a 20 meter circle radius\n",
    "# and replace the point geometry with the new buffered geometry\n",
    "sjer_plots_poly[\"geometry\"] = sjer_plots_points.geometry.buffer(20)\n",
    "sjer_plots_poly.head()"
   ]
  },
  {
   "cell_type": "code",
   "execution_count": null,
   "metadata": {},
   "outputs": [],
   "source": [
    "# If the dir does not exist, create it\n",
    "output_path = os.path.join(\"spatial-vector-lidar\", \n",
    "                           \"outputs\")\n",
    "\n",
    "if not os.path.isdir(output_path):\n",
    "    os.mkdir(output_path)\n",
    "\n",
    "# Export the buffered point layer as a shapefile to use in zonal stats\n",
    "plot_buffer_path = os.path.join(output_path, \n",
    "                                \"plot_buffer.shp\")\n",
    "\n",
    "sjer_plots_poly.to_file(plot_buffer_path)"
   ]
  },
  {
   "cell_type": "code",
   "execution_count": null,
   "metadata": {},
   "outputs": [],
   "source": [
    "# Extract zonal stats\n",
    "sjer_tree_heights = rs.zonal_stats(plot_buffer_path,\n",
    "                                   sjer_chm_data_no_zeros.values,\n",
    "                                   nodata=-999,\n",
    "                                   affine=sjer_chm_data_no_zeros.rio.transform(),\n",
    "                                   geojson_out=True,\n",
    "                                   copy_properties=True,\n",
    "                                   stats=\"count min mean max median\")\n",
    "\n",
    "# View object type\n",
    "type(sjer_tree_heights)"
   ]
  },
  {
   "cell_type": "code",
   "execution_count": null,
   "metadata": {},
   "outputs": [],
   "source": [
    "# Turn extracted data into a pandas geodataframe\n",
    "sjer_lidar_height_df = gpd.GeoDataFrame.from_features(sjer_tree_heights)\n",
    "sjer_lidar_height_df.head()"
   ]
  },
  {
   "cell_type": "code",
   "execution_count": null,
   "metadata": {},
   "outputs": [],
   "source": [
    "fig, ax = plt.subplots(figsize=(10, 5))\n",
    "\n",
    "ax.bar(sjer_lidar_height_df['Plot_ID'],\n",
    "       sjer_lidar_height_df['max'],\n",
    "       color=\"purple\")\n",
    "\n",
    "ax.set(xlabel='Plot ID', \n",
    "       ylabel='Max Height',\n",
    "       title='Maximum LIDAR Derived Tree Heights')\n",
    "\n",
    "plt.setp(ax.get_xticklabels(), rotation=45, horizontalalignment='right')\n",
    "plt.show()"
   ]
  },
  {
   "cell_type": "code",
   "execution_count": null,
   "metadata": {},
   "outputs": [],
   "source": [
    "# Extract zonal stats but retain the individual pixel values\n",
    "sjer_tree_heights_ras = rs.zonal_stats(plot_buffer_path,\n",
    "                                       sjer_chm_data_no_zeros.values,\n",
    "                                       nodata=-999,\n",
    "                                       affine=sjer_chm_data_no_zeros.rio.transform(),\n",
    "                                       geojson_out=True,\n",
    "                                       raster_out=True,\n",
    "                                       copy_properties=True,\n",
    "                                       stats=\"count min mean max median\")\n",
    "# Convert to geodataframe\n",
    "sjer_lidar_height_df_ras = gpd.GeoDataFrame.from_features(\n",
    "    sjer_tree_heights_ras)\n",
    "\n",
    "# View subset of the dataframe\n",
    "sjer_lidar_height_df_ras[[\"Plot_ID\", \n",
    "                          \"count\", \n",
    "                          \"geometry\",\n",
    "                          \"mini_raster_affine\", \n",
    "                          \"mini_raster_array\"]].head()"
   ]
  },
  {
   "cell_type": "code",
   "execution_count": null,
   "metadata": {},
   "outputs": [],
   "source": [
    "# Get list of sites\n",
    "site_names = list(sjer_lidar_height_df_ras[\"Plot_ID\"])\n",
    "\n",
    "# Convert data in dataframe to a numpy array\n",
    "arr = np.stack(sjer_lidar_height_df_ras['mini_raster_array'])\n",
    "\n",
    "# Plot using earthpy\n",
    "ep.hist(arr,\n",
    "        bins=[0, 5, 10, 15, 20, 25],\n",
    "        cols=3,\n",
    "        title=site_names, \n",
    "        figsize=(15, 30))\n",
    "\n",
    "plt.show()  \n"
   ]
  },
  {
   "cell_type": "code",
   "execution_count": null,
   "metadata": {},
   "outputs": [],
   "source": []
  }
 ],
 "metadata": {
  "language_info": {
   "name": "python"
  }
 },
 "nbformat": 4,
 "nbformat_minor": 2
}
